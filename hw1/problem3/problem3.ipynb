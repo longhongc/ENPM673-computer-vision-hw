{
 "cells": [
  {
   "cell_type": "markdown",
   "id": "1ddd7ec8-814e-49fb-ba25-3f8d7441cd0f",
   "metadata": {
    "tags": []
   },
   "source": [
    "# Problem 3\n",
    "Analyze age insurance relationship data using LS, TLS, RANSAC"
   ]
  },
  {
   "cell_type": "code",
   "execution_count": 1,
   "id": "721070e5-e820-479e-aa91-a78b8d61d2db",
   "metadata": {},
   "outputs": [
    {
     "name": "stdout",
     "output_type": "stream",
     "text": [
      "data count:  325\n"
     ]
    },
    {
     "data": {
      "text/html": [
       "<div>\n",
       "<style scoped>\n",
       "    .dataframe tbody tr th:only-of-type {\n",
       "        vertical-align: middle;\n",
       "    }\n",
       "\n",
       "    .dataframe tbody tr th {\n",
       "        vertical-align: top;\n",
       "    }\n",
       "\n",
       "    .dataframe thead th {\n",
       "        text-align: right;\n",
       "    }\n",
       "</style>\n",
       "<table border=\"1\" class=\"dataframe\">\n",
       "  <thead>\n",
       "    <tr style=\"text-align: right;\">\n",
       "      <th></th>\n",
       "      <th>age</th>\n",
       "      <th>sex</th>\n",
       "      <th>bmi</th>\n",
       "      <th>children</th>\n",
       "      <th>smoker</th>\n",
       "      <th>region</th>\n",
       "      <th>charges</th>\n",
       "    </tr>\n",
       "  </thead>\n",
       "  <tbody>\n",
       "    <tr>\n",
       "      <th>0</th>\n",
       "      <td>33</td>\n",
       "      <td>male</td>\n",
       "      <td>22.705</td>\n",
       "      <td>0</td>\n",
       "      <td>no</td>\n",
       "      <td>northwest</td>\n",
       "      <td>21984.47061</td>\n",
       "    </tr>\n",
       "    <tr>\n",
       "      <th>1</th>\n",
       "      <td>32</td>\n",
       "      <td>male</td>\n",
       "      <td>28.880</td>\n",
       "      <td>0</td>\n",
       "      <td>no</td>\n",
       "      <td>northwest</td>\n",
       "      <td>3866.85520</td>\n",
       "    </tr>\n",
       "    <tr>\n",
       "      <th>2</th>\n",
       "      <td>37</td>\n",
       "      <td>female</td>\n",
       "      <td>27.740</td>\n",
       "      <td>3</td>\n",
       "      <td>no</td>\n",
       "      <td>northwest</td>\n",
       "      <td>7281.50560</td>\n",
       "    </tr>\n",
       "    <tr>\n",
       "      <th>3</th>\n",
       "      <td>60</td>\n",
       "      <td>female</td>\n",
       "      <td>25.840</td>\n",
       "      <td>0</td>\n",
       "      <td>no</td>\n",
       "      <td>northwest</td>\n",
       "      <td>28923.13692</td>\n",
       "    </tr>\n",
       "    <tr>\n",
       "      <th>4</th>\n",
       "      <td>37</td>\n",
       "      <td>male</td>\n",
       "      <td>28.025</td>\n",
       "      <td>2</td>\n",
       "      <td>no</td>\n",
       "      <td>northwest</td>\n",
       "      <td>6203.90175</td>\n",
       "    </tr>\n",
       "  </tbody>\n",
       "</table>\n",
       "</div>"
      ],
      "text/plain": [
       "   age     sex     bmi  children smoker     region      charges\n",
       "0   33    male  22.705         0     no  northwest  21984.47061\n",
       "1   32    male  28.880         0     no  northwest   3866.85520\n",
       "2   37  female  27.740         3     no  northwest   7281.50560\n",
       "3   60  female  25.840         0     no  northwest  28923.13692\n",
       "4   37    male  28.025         2     no  northwest   6203.90175"
      ]
     },
     "execution_count": 1,
     "metadata": {},
     "output_type": "execute_result"
    }
   ],
   "source": [
    "import matplotlib.pyplot as plt\n",
    "import numpy as np\n",
    "import pandas as pd\n",
    "\n",
    "# Load the data\n",
    "insurance_data = pd.read_csv(\"problem3.csv\", thousands=',')\n",
    "data_count = len(insurance_data.index) \n",
    "print(\"data count: \", data_count)\n",
    "insurance_data.head()"
   ]
  },
  {
   "cell_type": "code",
   "execution_count": 2,
   "id": "ad93d6ac-f6cf-453a-bb20-6ef81830ecbe",
   "metadata": {},
   "outputs": [
    {
     "data": {
      "text/plain": [
       "<matplotlib.axes._subplots.AxesSubplot at 0x7f85dfb7db20>"
      ]
     },
     "execution_count": 2,
     "metadata": {},
     "output_type": "execute_result"
    },
    {
     "data": {
      "image/png": "[encoded data removed]",
      "text/plain": [
       "<Figure size 432x288 with 1 Axes>"
      ]
     },
     "metadata": {
      "needs_background": "light"
     },
     "output_type": "display_data"
    }
   ],
   "source": [
    "# plot to insepct the data distribution\n",
    "age_charges = insurance_data[[\"age\", \"charges\"]]\n",
    "age_charges.plot(kind=\"scatter\", x=\"age\", y=\"charges\")"
   ]
  },
  {
   "cell_type": "markdown",
   "id": "7df909b8-0a14-4bf6-abf5-89c90f927635",
   "metadata": {},
   "source": [
    "## 1. Draw the data and the eigenvector of the covariance matrix"
   ]
  },
  {
   "cell_type": "code",
   "execution_count": 3,
   "id": "d91f057d-9f0f-4e01-8332-842fa1467e7c",
   "metadata": {},
   "outputs": [
    {
     "name": "stdout",
     "output_type": "stream",
     "text": [
      "39.19692307692308\n",
      "12417.57537396923\n",
      "14.051646022278764\n",
      "11072.276927579976\n"
     ]
    },
    {
     "data": {
      "text/plain": [
       "<matplotlib.axes._subplots.AxesSubplot at 0x7f85dface940>"
      ]
     },
     "execution_count": 3,
     "metadata": {},
     "output_type": "execute_result"
    },
    {
     "data": {
      "image/png": "[encoded data removed]",
      "text/plain": [
       "<Figure size 432x288 with 1 Axes>"
      ]
     },
     "metadata": {
      "needs_background": "light"
     },
     "output_type": "display_data"
    }
   ],
   "source": [
    "# The magnitude of age and insurance has big difference\n",
    "# normalize the data\n",
    "age_mean = insurance_data[\"age\"].mean()\n",
    "charges_mean = insurance_data[\"charges\"].mean()\n",
    "print(age_mean)\n",
    "print(charges_mean)\n",
    "\n",
    "age_std = insurance_data[\"age\"].std()\n",
    "charges_std = insurance_data[\"charges\"].std()\n",
    "print(age_std)\n",
    "print(charges_std)\n",
    "\n",
    "insurance_data[\"age\"] -= age_mean\n",
    "insurance_data[\"age\"] /= age_std\n",
    "insurance_data[\"charges\"] -= charges_mean\n",
    "insurance_data[\"charges\"] /= charges_std\n",
    "\n",
    "age_charges = insurance_data[[\"age\", \"charges\"]]\n",
    "age_charges.plot(kind=\"scatter\", x=\"age\", y=\"charges\")\n",
    "# data remain same distribution\n",
    "# mean = 0"
   ]
  },
  {
   "cell_type": "code",
   "execution_count": 4,
   "id": "38f1d353-805e-4026-b4fd-13b200ad2231",
   "metadata": {},
   "outputs": [
    {
     "name": "stdout",
     "output_type": "stream",
     "text": [
      "Covariance matirx: \n",
      "[[0.99692308 0.33661491]\n",
      " [0.33661491 0.99692308]]\n",
      "Eigenvalue: \n",
      "[1.33353798 0.66030817]\n",
      "Eigen vector: \n",
      "[[ 0.70710678 -0.70710678]\n",
      " [ 0.70710678  0.70710678]]\n"
     ]
    },
    {
     "data": {
      "text/plain": [
       "<matplotlib.patches.FancyArrow at 0x7f85df65d7c0>"
      ]
     },
     "execution_count": 4,
     "metadata": {},
     "output_type": "execute_result"
    },
    {
     "data": {
      "image/png": "[encoded data removed]",
      "text/plain": [
       "<Figure size 576x576 with 1 Axes>"
      ]
     },
     "metadata": {
      "needs_background": "light"
     },
     "output_type": "display_data"
    }
   ],
   "source": [
    "# Plot the eigenvector\n",
    "fig, ax = plt.subplots(figsize=(8, 8))\n",
    "plt.xlim([-2, 4])\n",
    "plt.ylim([-2, 4])\n",
    "plt.xlabel('age')\n",
    "plt.ylabel('charges')\n",
    "\n",
    "normalized_data = age_charges.to_numpy()\n",
    "\n",
    "for point in normalized_data:\n",
    "    plt.scatter(point[0], point[1], 1, c=\"b\") \n",
    "    \n",
    "# calculate covariance matrix\n",
    "U = normalized_data\n",
    "covariance_matrix = U.T.dot(U)/data_count\n",
    "print(\"Covariance matirx: \")\n",
    "print(covariance_matrix)\n",
    "\n",
    "# calculate eigenvector\n",
    "w, v = np.linalg.eig(covariance_matrix)\n",
    "print(\"Eigenvalue: \")\n",
    "print(w)\n",
    "print(\"Eigen vector: \")\n",
    "print(v)\n",
    "\n",
    "# draw eigenvector\n",
    "plt.arrow(0, 0, v[:,0][0], v[:,0][1], width=0.05)\n",
    "plt.arrow(0, 0, v[:,1][0], v[:,1][1], width=0.05)"
   ]
  },
  {
   "cell_type": "markdown",
   "id": "1d226031-36e6-4288-8d09-9706f68281c9",
   "metadata": {},
   "source": [
    "## 2. Fit a line using LS, TLS, and RANSAC and plot the result"
   ]
  },
  {
   "cell_type": "markdown",
   "id": "f86d5b15-a140-484d-8d39-109fe6b55210",
   "metadata": {},
   "source": [
    "### Linear Least Square Method\n",
    "Fit the data with line y = ax+b"
   ]
  },
  {
   "cell_type": "code",
   "execution_count": 5,
   "id": "0c835742-cd9a-463f-bd3c-1fc21f56ae67",
   "metadata": {},
   "outputs": [
    {
     "name": "stdout",
     "output_type": "stream",
     "text": [
      "LS total error:  [287.06072198]\n"
     ]
    },
    {
     "data": {
      "image/png": "[encoded data removed]",
      "text/plain": [
       "<Figure size 576x576 with 1 Axes>"
      ]
     },
     "metadata": {
      "needs_background": "light"
     },
     "output_type": "display_data"
    }
   ],
   "source": [
    "fig, ax = plt.subplots(figsize=(8, 8))\n",
    "plt.xlim([-2, 4])\n",
    "plt.ylim([-2, 4])\n",
    "plt.xlabel('age')\n",
    "plt.ylabel('charges')\n",
    "\n",
    "x = []\n",
    "y = []\n",
    "for point in normalized_data:\n",
    "    x.append(point[0])\n",
    "    y.append(point[1])\n",
    "    plt.scatter(point[0], point[1], 1, c=\"b\")\n",
    "    \n",
    "Y = np.array([y]).T\n",
    "X_col0 = np.array([x]).T\n",
    "X_col1 = np.ones((len(x), 1))\n",
    "X = np.hstack((X_col0, X_col1))\n",
    "B = np.matmul(np.linalg.inv(X.T.dot(X)), X.T.dot(Y)) # B = inv(X.T*X)(X.T*Y)\n",
    "new_x = np.linspace(-2, 4, 100)\n",
    "new_y = B[0] * new_x + B[1]\n",
    "plt.plot(new_x, new_y, \"g-\")\n",
    "\n",
    "# calculate total error\n",
    "LS_total_error = 0\n",
    "for point in normalized_data:\n",
    "    x, y = point\n",
    "    LS_total_error += pow(B[0] * x + B[1]-y, 2)\n",
    "print(\"LS total error: \", LS_total_error)"
   ]
  },
  {
   "cell_type": "markdown",
   "id": "18c33d9b-484c-4731-9d96-ab5454788050",
   "metadata": {},
   "source": [
    "### Total Least Square Method\n",
    "Fit the data with line ax+by-d=0"
   ]
  },
  {
   "cell_type": "code",
   "execution_count": 6,
   "id": "b633b95a-3669-4b0c-a394-c922d74088c6",
   "metadata": {},
   "outputs": [
    {
     "name": "stdout",
     "output_type": "stream",
     "text": [
      "Covariance matirx: \n",
      "[[0.99692308 0.33661491]\n",
      " [0.33661491 0.99692308]]\n",
      "Eigenvalue: \n",
      "[1.33353798 0.66030817]\n",
      "Eigen vector: \n",
      "[[ 0.70710678 -0.70710678]\n",
      " [ 0.70710678  0.70710678]]\n"
     ]
    }
   ],
   "source": [
    "# calculate covariance matrix\n",
    "U = normalized_data\n",
    "covariance_matrix = U.T.dot(U)/data_count\n",
    "print(\"Covariance matirx: \")\n",
    "print(covariance_matrix)\n",
    "\n",
    "# calculate eigenvector\n",
    "w, v = np.linalg.eig(covariance_matrix)\n",
    "print(\"Eigenvalue: \")\n",
    "print(w)\n",
    "print(\"Eigen vector: \")\n",
    "print(v)"
   ]
  },
  {
   "cell_type": "code",
   "execution_count": 7,
   "id": "f00edf26-ea2e-4cfc-88c2-9fb29ab31daa",
   "metadata": {},
   "outputs": [
    {
     "name": "stdout",
     "output_type": "stream",
     "text": [
      "TLS total error:  214.60015431147306\n"
     ]
    },
    {
     "data": {
      "image/png": "[encoded data removed]",
      "text/plain": [
       "<Figure size 576x576 with 1 Axes>"
      ]
     },
     "metadata": {
      "needs_background": "light"
     },
     "output_type": "display_data"
    }
   ],
   "source": [
    "fig, ax = plt.subplots(figsize=(8, 8))\n",
    "plt.xlim([-2, 4])\n",
    "plt.ylim([-2, 4])\n",
    "plt.xlabel('age')\n",
    "plt.ylabel('charges')\n",
    "\n",
    "for point in normalized_data:\n",
    "    plt.scatter(point[0], point[1], 1, c=\"b\")\n",
    "    \n",
    "# Find the eigenvector corresponding with the smallest eigenvalue to be parameter a and b\n",
    "# a=-0.70710678, b=0.70710678, d=0 (normalized data)\n",
    "a = -0.70710678\n",
    "b = 0.70710678\n",
    "d = 0\n",
    "new_x = np.linspace(-2, 4, 100)\n",
    "new_y = (-a * new_x + d)/b \n",
    "plt.plot(new_x, new_y, \"r-\")\n",
    "\n",
    "TLS_total_error = 0\n",
    "for point in normalized_data:\n",
    "    x, y = point\n",
    "    TLS_total_error += pow(a*x+b*y-d, 2)\n",
    "print(\"TLS total error: \", TLS_total_error)"
   ]
  },
  {
   "cell_type": "markdown",
   "id": "afa0e623-872b-4d49-beaa-18c9080abac0",
   "metadata": {},
   "source": [
    "### RANSAC"
   ]
  },
  {
   "cell_type": "code",
   "execution_count": 8,
   "id": "f76be1c0-05ed-42de-a6a3-4e1e0e369c33",
   "metadata": {},
   "outputs": [
    {
     "name": "stdout",
     "output_type": "stream",
     "text": [
      "test random_sample_points\n",
      "sampled data: \n",
      "[[ 0.27064992 -0.37090259]\n",
      " [ 0.0571518  -0.38428041]]\n"
     ]
    }
   ],
   "source": [
    "# Randomly selected minimal subset of points\n",
    "def random_sample_points(data, points=2):\n",
    "    rows = data.shape[0]\n",
    "    random_index= np.random.choice(rows, points, replace=False)\n",
    "    sampled_data = data[random_index, :]\n",
    "    return sampled_data\n",
    "print(\"test random_sample_points\")\n",
    "sampled_data = random_sample_points(U)\n",
    "print(\"sampled data: \")\n",
    "print(sampled_data)"
   ]
  },
  {
   "cell_type": "code",
   "execution_count": 9,
   "id": "39a149c9-7af8-4af3-812c-98cba82f705d",
   "metadata": {},
   "outputs": [
    {
     "name": "stdout",
     "output_type": "stream",
     "text": [
      "test fit_model\n",
      "model: \n",
      "[[ 0.06266012]\n",
      " [-0.38786155]]\n",
      "inferenced y:  [-0.37090259]\n"
     ]
    }
   ],
   "source": [
    "# Hypothesize a model\n",
    "# fit with linear model y=ax+b\n",
    "# return parameter a, b\n",
    "def fit_model(data):\n",
    "    x = []\n",
    "    y = []\n",
    "    for point in data:\n",
    "        x.append(point[0])\n",
    "        y.append(point[1])\n",
    "    \n",
    "    Y = np.array([y]).T\n",
    "    X_col0 = np.array([x]).T\n",
    "    X_col1 = np.ones((len(x), 1))\n",
    "    X = np.hstack((X_col0, X_col1))\n",
    "    B = np.matmul(np.linalg.inv(X.T.dot(X)), X.T.dot(Y)) # B = inv(X.T*X)(X.T*Y)\n",
    "    return B\n",
    "print(\"test fit_model\")\n",
    "B = fit_model(sampled_data)\n",
    "print(\"model: \")\n",
    "print(B)\n",
    "print(\"inferenced y: \", sampled_data[0][0]*B[0]+B[1])"
   ]
  },
  {
   "cell_type": "code",
   "execution_count": 10,
   "id": "d208adca-4299-4e7c-9d9d-2d161d2d9d98",
   "metadata": {},
   "outputs": [
    {
     "name": "stdout",
     "output_type": "stream",
     "text": [
      "test calculate_error\n",
      "average error:  [1.10908921]\n"
     ]
    }
   ],
   "source": [
    "# Compute error\n",
    "def calculate_error(data, model):\n",
    "    a, b = model\n",
    "    error = 0\n",
    "    for point in data:\n",
    "        x, y = point\n",
    "        error += pow(a*x-y+b, 2) \n",
    "    return error\n",
    "print(\"test calculate_error\")\n",
    "total_error = calculate_error(U, B)\n",
    "print(\"average error: \", total_error/data_count)"
   ]
  },
  {
   "cell_type": "code",
   "execution_count": 11,
   "id": "3b9e1baf-9050-42d2-bad6-475e37b97b54",
   "metadata": {},
   "outputs": [
    {
     "data": {
      "text/plain": [
       "[<matplotlib.lines.Line2D at 0x7f85df45c670>]"
      ]
     },
     "execution_count": 11,
     "metadata": {},
     "output_type": "execute_result"
    },
    {
     "data": {
      "image/png": "[encoded data removed]",
      "text/plain": [
       "<Figure size 576x576 with 1 Axes>"
      ]
     },
     "metadata": {
      "needs_background": "light"
     },
     "output_type": "display_data"
    }
   ],
   "source": [
    "# Test finding inlier\n",
    "fig, ax = plt.subplots(figsize=(8, 8))\n",
    "plt.xlim([-2, 4])\n",
    "plt.ylim([-2, 4])\n",
    "plt.xlabel('age')\n",
    "plt.ylabel('insurance')\n",
    "\n",
    "for point in normalized_data:\n",
    "    e = calculate_error(np.array([point]), B)\n",
    "    if(abs(e) < 0.03):\n",
    "        plt.scatter(point[0], point[1], 1, c=\"g\")\n",
    "    else:\n",
    "        plt.scatter(point[0], point[1], 1, c=\"b\")\n",
    "new_x = np.linspace(-2, 4, 100)\n",
    "new_y = B[0] * new_x + B[1]\n",
    "plt.plot(new_x, new_y, \"r-\")"
   ]
  },
  {
   "cell_type": "code",
   "execution_count": 12,
   "id": "b4a44bc9-1fe8-4dcc-9bcf-af3d1e3e9e03",
   "metadata": {},
   "outputs": [
    {
     "name": "stdout",
     "output_type": "stream",
     "text": [
      "test inlier_count\n",
      "tolerance:  [0.5545446]\n",
      "inlier:  248\n"
     ]
    }
   ],
   "source": [
    "# Select points consistent with model\n",
    "def inlier_count(data, model, tolerance):\n",
    "    count = 0\n",
    "    for point in data:\n",
    "        e = calculate_error(np.array([point]), model)\n",
    "        if(abs(e) < tolerance):\n",
    "            count += 1\n",
    "    return count\n",
    "print(\"test inlier_count\")\n",
    "tolerance = abs(total_error/data_count*0.5)\n",
    "print(\"tolerance: \", tolerance)\n",
    "inlier = inlier_count(U, B, tolerance)\n",
    "print(\"inlier: \", inlier)"
   ]
  },
  {
   "cell_type": "code",
   "execution_count": 13,
   "id": "834afa9b-a135-4891-8339-26e56c50a8a4",
   "metadata": {},
   "outputs": [
    {
     "name": "stdout",
     "output_type": "stream",
     "text": [
      "Iterations:  4\n",
      "Max inlier:  245\n",
      "total error:  [351.98573814]\n"
     ]
    },
    {
     "data": {
      "image/png": "[encoded data removed]",
      "text/plain": [
       "<Figure size 576x576 with 1 Axes>"
      ]
     },
     "metadata": {
      "needs_background": "light"
     },
     "output_type": "display_data"
    }
   ],
   "source": [
    "# RANSAC algorithm\n",
    "import math\n",
    "\n",
    "fig, ax = plt.subplots(figsize=(8, 8))\n",
    "plt.xlim([-2, 4])\n",
    "plt.ylim([-2, 4])\n",
    "plt.xlabel('age')\n",
    "plt.ylabel('charges')\n",
    "\n",
    "# e is the probability of outlier data, outlier data/total data\n",
    "# p is the probability to have good model in RANSAC\n",
    "# s is the number of sampled points\n",
    "def RANSAC(data, e=0.3, p=0.95, s=2):\n",
    "    N = int(math.log(1-p)/math.log(1-pow((1-e),2)))\n",
    "    print(\"Iterations: \", N)\n",
    "    model_eval = {}\n",
    "    for _ in range(0, N):\n",
    "        try:\n",
    "            sampled_data = random_sample_points(data, points=s)\n",
    "            model = fit_model(sampled_data)\n",
    "            \n",
    "            tolerance = TLS_total_error/data_count * 0.05 # good tested value 0.03\n",
    "            inlier = inlier_count(data, model, tolerance)\n",
    "            model_eval[inlier] = model\n",
    "        # sometimes the model is unsolvable when the line is vertical\n",
    "        # because the model assumption is y=ax+b\n",
    "        # skip that model when encountered\n",
    "        except: \n",
    "            pass\n",
    "        \n",
    "    print(\"Max inlier: \", max(model_eval.keys()))\n",
    "    return model_eval[max(model_eval.keys())] \n",
    "\n",
    "best_model = RANSAC(normalized_data)\n",
    "total_error = calculate_error(normalized_data, best_model)\n",
    "print(\"total error: \", total_error)\n",
    "new_x = np.linspace(-2, 4, 100)\n",
    "new_y = best_model[0] * new_x + best_model[1]\n",
    "plt.plot(new_x, new_y, \"r-\")\n",
    "\n",
    "for point in normalized_data:\n",
    "    plt.scatter(point[0], point[1], 1, c=\"b\")"
   ]
  }
 ],
 "metadata": {
  "kernelspec": {
   "display_name": "Python 3 (ipykernel)",
   "language": "python",
   "name": "python3"
  },
  "language_info": {
   "codemirror_mode": {
    "name": "ipython",
    "version": 3
   },
   "file_extension": ".py",
   "mimetype": "text/x-python",
   "name": "python",
   "nbconvert_exporter": "python",
   "pygments_lexer": "ipython3",
   "version": "3.8.10"
  }
 },
 "nbformat": 4,
 "nbformat_minor": 5
}
